{
 "cells": [
  {
   "cell_type": "markdown",
   "metadata": {},
   "source": [
    "This exercise will require you to pull some data from the Qunadl API. Qaundl is currently the most widely used aggregator of financial market data."
   ]
  },
  {
   "cell_type": "markdown",
   "metadata": {},
   "source": [
    "As a first step, you will need to register a free account on the http://www.quandl.com website."
   ]
  },
  {
   "cell_type": "markdown",
   "metadata": {},
   "source": [
    "After you register, you will be provided with a unique API key, that you should store:"
   ]
  },
  {
   "cell_type": "code",
   "execution_count": 1,
   "metadata": {},
   "outputs": [],
   "source": [
    "# Store the API key as a string - according to PEP8, constants are always named in all upper case\n",
    "API_KEY = '***********'"
   ]
  },
  {
   "cell_type": "markdown",
   "metadata": {},
   "source": [
    "Qaundl has a large number of data sources, but, unfortunately, most of them require a Premium subscription. Still, there are also a good number of free datasets."
   ]
  },
  {
   "cell_type": "markdown",
   "metadata": {},
   "source": [
    "For this mini project, we will focus on equities data from the Frankfurt Stock Exhange (FSE), which is available for free. We'll try and analyze the stock prices of a company called Carl Zeiss Meditec, which manufactures tools for eye examinations, as well as medical lasers for laser eye surgery: https://www.zeiss.com/meditec/int/home.html. The company is listed under the stock ticker AFX_X."
   ]
  },
  {
   "cell_type": "markdown",
   "metadata": {},
   "source": [
    "You can find the detailed Quandl API instructions here: https://docs.quandl.com/docs/time-series"
   ]
  },
  {
   "cell_type": "markdown",
   "metadata": {},
   "source": [
    "While there is a dedicated Python package for connecting to the Quandl API, we would prefer that you use the *requests* package, which can be easily downloaded using *pip* or *conda*. You can find the documentation for the package here: http://docs.python-requests.org/en/master/ "
   ]
  },
  {
   "cell_type": "markdown",
   "metadata": {},
   "source": [
    "Finally, apart from the *requests* package, you are encouraged to not use any third party Python packages, such as *pandas*, and instead focus on what's available in the Python Standard Library (the *collections* module might come in handy: https://pymotw.com/3/collections/ ).\n",
    "Also, since you won't have access to DataFrames, you are encouraged to us Python's native data structures - preferably dictionaries, though some questions can also be answered using lists.\n",
    "You can read more on these data structures here: https://docs.python.org/3/tutorial/datastructures.html"
   ]
  },
  {
   "cell_type": "markdown",
   "metadata": {},
   "source": [
    "Keep in mind that the JSON responses you will be getting from the API map almost one-to-one to Python's dictionaries. Unfortunately, they can be very nested, so make sure you read up on indexing dictionaries in the documentation provided above."
   ]
  },
  {
   "cell_type": "code",
   "execution_count": 2,
   "metadata": {},
   "outputs": [],
   "source": [
    "# First, import the relevant modules\n",
    "import pandas as pd\n",
    "import requests\n",
    "import numpy as np\n",
    "import matplotlib.pyplot as plt\n",
    "import json"
   ]
  },
  {
   "cell_type": "code",
   "execution_count": 3,
   "metadata": {},
   "outputs": [
    {
     "name": "stdout",
     "output_type": "stream",
     "text": [
      "[u'Date', u'Open', u'High', u'Low', u'Close', u'Change', u'Traded Volume', u'Turnover', u'Last Price of the Day', u'Daily Traded Units', u'Daily Turnover']\n",
      "[u'2019-05-15', None, 87.35, 85.1, 86.65, None, 145855.0, 12611298.0, None, None, None]\n"
     ]
    }
   ],
   "source": [
    "# Now, call the Quandl API and pull out a small sample of the data (only one day) to get a glimpse\n",
    "# into the JSON structure that will be returned\n",
    "r = requests.get(\"https://www.quandl.com/api/v3/datasets/FSE/AFX_X/data.json\", API_KEY)\n",
    "print(r.json()['dataset_data']['column_names'])\n",
    "print(r.json()['dataset_data']['data'][9])"
   ]
  },
  {
   "cell_type": "code",
   "execution_count": 4,
   "metadata": {},
   "outputs": [],
   "source": [
    "# Inspect the JSON structure of the object you created, and take note of how nested it is,\n",
    "# as well as the overall structure\n",
    "#print(r.json())"
   ]
  },
  {
   "cell_type": "markdown",
   "metadata": {},
   "source": [
    "These are your tasks for this mini project:\n",
    "\n",
    "1. Collect data from the Franfurt Stock Exchange, for the ticker AFX_X, for the whole year 2017 (keep in mind that the date format is YYYY-MM-DD).\n",
    "2. Convert the returned JSON object into a Python dictionary.\n",
    "3. Calculate what the highest and lowest opening prices were for the stock in this period.\n",
    "4. What was the largest change in any one day (based on High and Low price)?\n",
    "5. What was the largest change between any two days (based on Closing Price)?\n",
    "6. What was the average daily trading volume during this year?\n",
    "7. (Optional) What was the median trading volume during this year. (Note: you may need to implement your own function for calculating the median.)"
   ]
  },
  {
   "cell_type": "code",
   "execution_count": 5,
   "metadata": {},
   "outputs": [
    {
     "name": "stdout",
     "output_type": "stream",
     "text": [
      "The highest opening price of 2017 was $53.11 and the lowest was $34.0\n"
     ]
    }
   ],
   "source": [
    "#Read JSON data into a dictionary. Remove one layer of nesting\n",
    "afxdict= dict(r.json()['dataset_data'])\n",
    "#Save column names for a future dataframe\n",
    "column_names= [afxdict['column_names'][1:]]\n",
    "#initialize empty dictionary, data\n",
    "data={}\n",
    "#Iterate through list of lists in order to populate data with 2017 data\n",
    "for line in afxdict['data']:\n",
    "    #Use list indexing and string method to specify year\n",
    "    if line[0].startswith('2017'):\n",
    "        #Populate data with date keys corresponding to lists of stock data\n",
    "        data[line[0]]= line[1:]\n",
    "#Convert to dataFrame for easier use. Unfornetly, the dates have become the columns\n",
    "df=pd.DataFrame(data)\n",
    "#perform a double unstack to move the columns to the index\n",
    "df=df.unstack(level=df.index).unstack()\n",
    "#Name columns\n",
    "df.columns=column_names\n",
    "\n",
    "#Find the Max and Min\n",
    "maxOpen=float(df.Open.max())\n",
    "minOpen=float(df.Open.min())\n",
    "\n",
    "\n",
    "\n",
    "print('The highest opening price of 2017 was $'+ str(maxOpen)+ ' and the lowest was $'+ str(minOpen))"
   ]
  },
  {
   "cell_type": "code",
   "execution_count": 6,
   "metadata": {},
   "outputs": [
    {
     "name": "stdout",
     "output_type": "stream",
     "text": [
      "The largest swing in the stock price was $2.81 on May 11th\n"
     ]
    }
   ],
   "source": [
    "#Define empty dictionary, swing\n",
    "swing= {}\n",
    "#Iterate through list of lists in order to populate data with 2017 data\n",
    "for line in afxdict['data']:\n",
    "    if line[0].startswith('2017'):\n",
    "        #Find the difference between the daily high and daily low\n",
    "        swing[line[0]]= line[2]-line[3]\n",
    "                     \n",
    "#Convert to Series for easier use\n",
    "swing=pd.Series(swing)\n",
    "#Determine the largest difference\n",
    "maxDif =float(swing.max())\n",
    "print('The largest swing in the stock price was $'+ str(maxDif)) +' on May 11th'"
   ]
  },
  {
   "cell_type": "code",
   "execution_count": 7,
   "metadata": {},
   "outputs": [
    {
     "name": "stdout",
     "output_type": "stream",
     "text": [
      "The largest difference in closing price from one day to the next was $2.56 from August 8th to August 9th\n"
     ]
    }
   ],
   "source": [
    "#Initialize empty dictionary, difference\n",
    "difference= {}\n",
    "#Initialize place holder variable\n",
    "hold=0\n",
    "#Iterate backwards because list have most recent dates first \n",
    "for line in  afxdict['data'][::-1]:\n",
    "    #Only want data for 2017 but to get the difference on 2017 we need the last data point of 2016\n",
    "    if line[0].startswith('2017') or line[0]=='2016-12-30':\n",
    "        #Populate difference with dates as keys and the change in closing prices as values\n",
    "        difference[line[0]]=line[4] - hold\n",
    "        #Place value in hold so it can be use on next iteration\n",
    "        hold=line[4]\n",
    "#Convert to series for easier us\n",
    "difference=pd.Series(difference)\n",
    "#Use absolute value to ensure negative value are included in max\n",
    "difference=abs(difference)\n",
    "#Add to DataFrame to eliminate 2016 value\n",
    "df['difference']=difference\n",
    "#Find Max \n",
    "maxDif =float(df['difference'].max())\n",
    "print('The largest difference in closing price from one day to the next was $'+ str(maxDif)+' from August 8th to August 9th')"
   ]
  },
  {
   "cell_type": "code",
   "execution_count": 8,
   "metadata": {},
   "outputs": [
    {
     "name": "stdout",
     "output_type": "stream",
     "text": [
      "The average trading volume in the year 2017 was 89124.33725490196\n"
     ]
    }
   ],
   "source": [
    "#Initialize empty dictionary, volume\n",
    "volume={}\n",
    "#Iterate through list of lists\n",
    "for line in afxdict['data']:\n",
    "    #Only 2017 values\n",
    "    if line[0].startswith('2017'):\n",
    "        #Populate volume with the volume portion of the list\n",
    "        volume[line[0]]= line[6]\n",
    "#Convert to Series\n",
    "volume=pd.Series(volume)\n",
    "#Find average\n",
    "average= volume.mean()\n",
    "print('The average trading volume in the year 2017 was '+ str(average))"
   ]
  },
  {
   "cell_type": "code",
   "execution_count": 9,
   "metadata": {},
   "outputs": [
    {
     "name": "stdout",
     "output_type": "stream",
     "text": [
      "The median trading volume in the year 2017 was 76286.0\n"
     ]
    }
   ],
   "source": [
    "#Initialize empty dictionary, volumeMed\n",
    "volumeMed={}\n",
    "#Iterate through list of lists\n",
    "for line in afxdict['data']:\n",
    "    #Only 2017 values\n",
    "    if line[0].startswith('2017'):\n",
    "        #Populate volumeMed with the volume portion of the list\n",
    "        volumeMed[line[0]]= line[6]\n",
    "#Convert to Series        \n",
    "volumeMed=pd.Series(volumeMed)\n",
    "#Find Median\n",
    "med= volumeMed.median()\n",
    "print('The median trading volume in the year 2017 was '+ str(med))"
   ]
  },
  {
   "cell_type": "code",
   "execution_count": null,
   "metadata": {},
   "outputs": [],
   "source": []
  },
  {
   "cell_type": "code",
   "execution_count": null,
   "metadata": {},
   "outputs": [],
   "source": []
  },
  {
   "cell_type": "code",
   "execution_count": null,
   "metadata": {},
   "outputs": [],
   "source": []
  },
  {
   "cell_type": "code",
   "execution_count": null,
   "metadata": {},
   "outputs": [],
   "source": []
  },
  {
   "cell_type": "code",
   "execution_count": null,
   "metadata": {},
   "outputs": [],
   "source": []
  },
  {
   "cell_type": "code",
   "execution_count": null,
   "metadata": {},
   "outputs": [],
   "source": []
  },
  {
   "cell_type": "code",
   "execution_count": null,
   "metadata": {},
   "outputs": [],
   "source": []
  },
  {
   "cell_type": "code",
   "execution_count": null,
   "metadata": {},
   "outputs": [],
   "source": []
  },
  {
   "cell_type": "code",
   "execution_count": null,
   "metadata": {},
   "outputs": [],
   "source": []
  },
  {
   "cell_type": "code",
   "execution_count": null,
   "metadata": {},
   "outputs": [],
   "source": []
  },
  {
   "cell_type": "code",
   "execution_count": null,
   "metadata": {},
   "outputs": [],
   "source": []
  },
  {
   "cell_type": "code",
   "execution_count": null,
   "metadata": {},
   "outputs": [],
   "source": []
  },
  {
   "cell_type": "code",
   "execution_count": null,
   "metadata": {},
   "outputs": [],
   "source": []
  },
  {
   "cell_type": "code",
   "execution_count": null,
   "metadata": {},
   "outputs": [],
   "source": []
  }
 ],
 "metadata": {
  "kernelspec": {
   "display_name": "Python 2",
   "language": "python",
   "name": "python2"
  },
  "language_info": {
   "codemirror_mode": {
    "name": "ipython",
    "version": 2
   },
   "file_extension": ".py",
   "mimetype": "text/x-python",
   "name": "python",
   "nbconvert_exporter": "python",
   "pygments_lexer": "ipython2",
   "version": "2.7.15"
  }
 },
 "nbformat": 4,
 "nbformat_minor": 2
}
